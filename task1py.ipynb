{
 "cells": [
  {
   "cell_type": "markdown",
   "id": "68180b2f-fd76-4b1f-922c-e71c5c4141da",
   "metadata": {},
   "source": [
    "# 1. Bold Text"
   ]
  },
  {
   "cell_type": "markdown",
   "id": "85af2940-5836-4966-b2aa-40483f425e59",
   "metadata": {},
   "source": [
    "**This text is bold**\r\n"
   ]
  },
  {
   "cell_type": "markdown",
   "id": "826529f4-6d1c-4aa7-a3fe-8f43417bfe72",
   "metadata": {},
   "source": [
    "# 2.Italic Text"
   ]
  },
  {
   "cell_type": "markdown",
   "id": "23a01e92-0389-4e27-9055-6f0e3b272136",
   "metadata": {},
   "source": [
    "*This text is italicized*\n"
   ]
  },
  {
   "cell_type": "markdown",
   "id": "60e0d9b9-cdcd-4149-b483-e0818c2444c2",
   "metadata": {},
   "source": [
    "# 3.Numbered Lists"
   ]
  },
  {
   "cell_type": "markdown",
   "id": "29fdc9ea-3381-4404-80f5-2245c7fb1649",
   "metadata": {},
   "source": [
    "1. First step: Install Python\n",
    "2. Second step: Install Jupyter Notebook\n",
    "3. Third step: Start coding!"
   ]
  },
  {
   "cell_type": "markdown",
   "id": "a965f657-5b79-4d31-bca3-da1fb84b3bb1",
   "metadata": {},
   "source": [
    "# 4.Blockquote"
   ]
  },
  {
   "cell_type": "markdown",
   "id": "060890b0-78e3-4051-8a1f-8cffbc3a7974",
   "metadata": {},
   "source": [
    "> \"This is a blockquote. It's useful for quoting text or instructions.\"\n"
   ]
  },
  {
   "cell_type": "markdown",
   "id": "675751c3-a183-430d-9ab5-c63a0287833a",
   "metadata": {},
   "source": [
    "# 5.Horizontal Line"
   ]
  },
  {
   "cell_type": "markdown",
   "id": "d4870c06-e2a6-44a4-92f5-1c6fc559cd72",
   "metadata": {},
   "source": [
    "---\n",
    "This is some text below a horizontal line.\n"
   ]
  },
  {
   "cell_type": "markdown",
   "id": "20310cde-d9c7-463d-8de0-42c6f86091ac",
   "metadata": {},
   "source": [
    "# 6.Tables"
   ]
  },
  {
   "cell_type": "markdown",
   "id": "90ceb815-90ec-49bd-9764-092e3f2a0306",
   "metadata": {},
   "source": [
    "| Name   | Age  | Occupation   |\n",
    "|--------|------|--------------|\n",
    "| Alice  | 25   | Data Scientist|\n",
    "| Bob    | 30   | Engineer      |\n",
    "| Charlie| 35   | Teacher       |\n"
   ]
  },
  {
   "cell_type": "markdown",
   "id": "ffebc942-335c-4adf-806f-ac03c628030d",
   "metadata": {},
   "source": [
    "# 7.Math Expressions (LaTeX)"
   ]
  },
  {
   "cell_type": "markdown",
   "id": "33259a0f-0bc3-432b-82e3-8f4f8d6a6947",
   "metadata": {},
   "source": [
    "The equation for energy is $E = mc^2$.\n"
   ]
  },
  {
   "cell_type": "markdown",
   "id": "8b6cb897-5b36-4b21-b871-bfe02432de52",
   "metadata": {},
   "source": [
    "# 8.HTML Elements"
   ]
  },
  {
   "cell_type": "markdown",
   "id": "9af089ca-9f3c-49cb-9a3d-750684d8dd3a",
   "metadata": {},
   "source": [
    "<p style=\"color:green;\">This paragraph is green.</p>\n"
   ]
  },
  {
   "cell_type": "markdown",
   "id": "342b1fce-9e06-4c3c-991c-9070fc4b8497",
   "metadata": {},
   "source": [
    "# 9.Interactive Widgets"
   ]
  },
  {
   "cell_type": "code",
   "execution_count": 27,
   "id": "b92c1a94-2d24-4c8e-ba3c-6502431049fa",
   "metadata": {},
   "outputs": [
    {
     "data": {
      "application/vnd.jupyter.widget-view+json": {
       "model_id": "75fcf03fbb204ef68e4d7ddfcb59a426",
       "version_major": 2,
       "version_minor": 0
      },
      "text/plain": [
       "IntSlider(value=5, max=10)"
      ]
     },
     "metadata": {},
     "output_type": "display_data"
    }
   ],
   "source": [
    "import ipywidgets as widgets\n",
    "\n",
    "slider = widgets.IntSlider(value=5, min=0, max=10, step=1)\n",
    "display(slider)\n"
   ]
  },
  {
   "cell_type": "markdown",
   "id": "695041bb-424b-4324-82b2-89bc48dc88ef",
   "metadata": {},
   "source": [
    "# 10.Subscript and Superscript"
   ]
  },
  {
   "cell_type": "markdown",
   "id": "c09152b7-6290-454a-9fdc-12bc6b478af5",
   "metadata": {},
   "source": [
    "H~2~O is water (subscript)\n",
    "E = mc^2 is Einstein's equation (superscript)\n"
   ]
  },
  {
   "cell_type": "markdown",
   "id": "1db3c1b0-b265-4cc0-b0a6-053de9e9210c",
   "metadata": {},
   "source": [
    "# 11. Strikethrough"
   ]
  },
  {
   "cell_type": "markdown",
   "id": "f05f88cc-0103-4e5c-a5e4-33a73d03aec6",
   "metadata": {},
   "source": [
    "~~This text is crossed out~~"
   ]
  },
  {
   "cell_type": "markdown",
   "id": "92b45531-3c1b-49af-8553-d20388a9271d",
   "metadata": {},
   "source": [
    "# 12. Line Breaks"
   ]
  },
  {
   "cell_type": "markdown",
   "id": "77ac93fd-7f89-4221-8c51-8d7434447940",
   "metadata": {},
   "source": [
    "This is a line with no break.  \n",
    "This is a new line after two spaces.\n"
   ]
  },
  {
   "cell_type": "markdown",
   "id": "7f27de5f-2bdf-4582-b565-66014d19ccfb",
   "metadata": {},
   "source": [
    "# 13.Checkboxes (Task List)\n"
   ]
  },
  {
   "cell_type": "markdown",
   "id": "2df17757-86bd-4359-a837-da6ae086432e",
   "metadata": {},
   "source": [
    "- [ ] Task 1\n",
    "- [x] Task 2 (Completed)\n"
   ]
  },
  {
   "cell_type": "markdown",
   "id": "75e068e5-f5a4-434d-aa7b-6c2bd64970c3",
   "metadata": {},
   "source": [
    "# 14. Collapsible Sections (HTML)"
   ]
  },
  {
   "cell_type": "markdown",
   "id": "00637751-f25d-48dc-ae8a-1a02995e2a87",
   "metadata": {},
   "source": [
    "<details>\n",
    "<summary>Click to expand</summary>\n",
    "<p>This is hidden content!</p>\n",
    "</details>\n"
   ]
  },
  {
   "cell_type": "markdown",
   "id": "41417fd7-6472-48be-9678-906b8b9e065f",
   "metadata": {},
   "source": [
    "# 15.Footnotes"
   ]
  },
  {
   "cell_type": "markdown",
   "id": "f17dec97-4a7f-488c-8569-535ec0b5d300",
   "metadata": {},
   "source": [
    "This is a sentence with a footnote.^[Here is the footnote content.]\n"
   ]
  },
  {
   "cell_type": "code",
   "execution_count": null,
   "id": "6c3f09cf-3d19-4b43-a2c1-c50e866de700",
   "metadata": {},
   "outputs": [],
   "source": []
  }
 ],
 "metadata": {
  "kernelspec": {
   "display_name": "Python 3 (ipykernel)",
   "language": "python",
   "name": "python3"
  },
  "language_info": {
   "codemirror_mode": {
    "name": "ipython",
    "version": 3
   },
   "file_extension": ".py",
   "mimetype": "text/x-python",
   "name": "python",
   "nbconvert_exporter": "python",
   "pygments_lexer": "ipython3",
   "version": "3.12.4"
  }
 },
 "nbformat": 4,
 "nbformat_minor": 5
}
